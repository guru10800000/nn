{
  "nbformat": 4,
  "nbformat_minor": 0,
  "metadata": {
    "colab": {
      "provenance": []
    },
    "kernelspec": {
      "name": "python3",
      "display_name": "Python 3"
    },
    "language_info": {
      "name": "python"
    }
  },
  "cells": [
    {
      "cell_type": "markdown",
      "source": [
        "## Downloading Datasets\n",
        "- Do not edit this cell\n"
      ],
      "metadata": {
        "id": "H7TqH3fx1Zfe"
      }
    },
    {
      "cell_type": "code",
      "execution_count": null,
      "metadata": {
        "colab": {
          "base_uri": "https://localhost:8080/",
          "height": 174
        },
        "id": "jaPv2R8MyuI1",
        "outputId": "da741b30-d136-4547-9e07-e175f9eec537"
      },
      "outputs": [
        {
          "output_type": "stream",
          "name": "stderr",
          "text": [
            "Downloading...\n",
            "From: https://drive.google.com/uc?export=download&id=12qD0Dt0-CFD9sniqxDBCKI5WCNb93FsQ\n",
            "To: /content/apache_log.txt\n",
            "100%|██████████| 63.6M/63.6M [00:01<00:00, 43.8MB/s]\n",
            "Downloading...\n",
            "From: https://drive.google.com/uc?export=download&id=1dPbMBAeJywAn0Lw0SdSRGAvA0Y_ePPOw\n",
            "To: /content/sales.csv\n",
            "100%|██████████| 45.9k/45.9k [00:00<00:00, 58.6MB/s]\n"
          ]
        },
        {
          "output_type": "execute_result",
          "data": {
            "text/plain": [
              "'sales.csv'"
            ],
            "application/vnd.google.colaboratory.intrinsic+json": {
              "type": "string"
            }
          },
          "metadata": {},
          "execution_count": 1
        }
      ],
      "source": [
        "import gdown\n",
        "log_file_id = '12qD0Dt0-CFD9sniqxDBCKI5WCNb93FsQ'\n",
        "sales_file_id = '1dPbMBAeJywAn0Lw0SdSRGAvA0Y_ePPOw'\n",
        "apache_log = 'apache_log.txt'\n",
        "sales = 'sales.csv'\n",
        "\n",
        "gdown.download(f'https://drive.google.com/uc?export=download&id={log_file_id}', apache_log, quiet=False)\n",
        "gdown.download(f'https://drive.google.com/uc?export=download&id={sales_file_id}', sales, quiet=False)"
      ]
    },
    {
      "cell_type": "markdown",
      "source": [
        "## Parsing and loading as dataframe\n"
      ],
      "metadata": {
        "id": "TngKAG4t1dfY"
      }
    },
    {
      "cell_type": "code",
      "execution_count": null,
      "metadata": {
        "colab": {
          "base_uri": "https://localhost:8080/"
        },
        "id": "ytqQk_78ZNgd",
        "outputId": "0ae91957-bd05-4277-9c40-2fc8fcc76426"
      },
      "outputs": [
        {
          "output_type": "stream",
          "name": "stdout",
          "text": [
            "<class 'pandas.core.frame.DataFrame'>\n",
            "RangeIndex: 258034 entries, 0 to 258033\n",
            "Data columns (total 17 columns):\n",
            " #   Column      Non-Null Count   Dtype                    \n",
            "---  ------      --------------   -----                    \n",
            " 0   ip          258034 non-null  object                   \n",
            " 1   identity    258034 non-null  object                   \n",
            " 2   userid      258034 non-null  object                   \n",
            " 3   datetime    258034 non-null  datetime64[ns, UTC-05:00]\n",
            " 4   method      258034 non-null  object                   \n",
            " 5   url         258034 non-null  object                   \n",
            " 6   protocol    258034 non-null  object                   \n",
            " 7   status      258034 non-null  int64                    \n",
            " 8   size        258034 non-null  int64                    \n",
            " 9   referrer    258034 non-null  object                   \n",
            " 10  user_agent  258034 non-null  object                   \n",
            " 11  host        258034 non-null  object                   \n",
            " 12  dest_ip     258034 non-null  object                   \n",
            " 13  day         258034 non-null  object                   \n",
            " 14  time        258034 non-null  object                   \n",
            " 15  hour        258034 non-null  int32                    \n",
            " 16  date        258034 non-null  object                   \n",
            "dtypes: datetime64[ns, UTC-05:00](1), int32(1), int64(2), object(13)\n",
            "memory usage: 32.5+ MB\n"
          ]
        }
      ],
      "source": [
        "import pandas as pd\n",
        "import re\n",
        "from datetime import datetime\n",
        "from datetime import time, date\n",
        "\n",
        "\n",
        "# Define a function to parse a single log entry\n",
        "def parse_log_entry(entry):\n",
        "    log_pattern = (\n",
        "        r\"(?P<ip>[\\d.]+) \"  # IP address\n",
        "        r\"(?P<identity>\\S+) \"  # Identity\n",
        "        r\"(?P<userid>\\S+) \"  # User ID\n",
        "        r\"\\[(?P<datetime>[^\\]]+)\\] \"  # Date and time\n",
        "        r'\"(?P<method>\\S+) '  # Method\n",
        "        r\"(?P<url>\\S+) \"  # URL\n",
        "        r'(?P<protocol>\\S+)\" '  # Protocol\n",
        "        r\"(?P<status>\\d+) \"  # Status code\n",
        "        r\"(?P<size>\\S+) \"  # Size\n",
        "        r'\"(?P<referrer>[^\\\"]+)\" '  # Referrer\n",
        "        r'\"(?P<user_agent>[^\\\"]+)\" '  # User agent\n",
        "        r\"(?P<host>\\S+) \"  # Host\n",
        "        r\"(?P<dest_ip>[\\d.]+)\"  # Destination IP\n",
        "    )\n",
        "\n",
        "    match = re.match(log_pattern, entry)\n",
        "    if match:\n",
        "        data = match.groupdict()\n",
        "        # Convert size to integer if possible\n",
        "        data[\"size\"] = int(data[\"size\"]) if data[\"size\"].isdigit() else 0\n",
        "        # Convert datetime to a datetime object\n",
        "        data[\"datetime\"] = datetime.strptime(data[\"datetime\"], \"%d/%b/%Y:%H:%M:%S %z\")\n",
        "        return data\n",
        "    else:\n",
        "        return None\n",
        "\n",
        "\n",
        "# Read the log file\n",
        "log_file = apache_log\n",
        "log_entries = []\n",
        "\n",
        "with open(log_file, \"r\") as file:\n",
        "    for line in file:\n",
        "        parsed_entry = parse_log_entry(line.strip())\n",
        "        if parsed_entry:\n",
        "            log_entries.append(parsed_entry)\n",
        "\n",
        "# Create a DataFrame\n",
        "df = pd.DataFrame(log_entries)\n",
        "df[\"day\"] = df[\"datetime\"].dt.day_name()\n",
        "df[\"time\"] = df[\"datetime\"].dt.time\n",
        "df[\"hour\"] = df[\"datetime\"].dt.hour\n",
        "df[\"date\"] = df[\"datetime\"].dt.date\n",
        "df[\"status\"] = df[\"status\"].astype(int)\n",
        "df.info()"
      ]
    },
    {
      "cell_type": "markdown",
      "source": [
        "### Q1"
      ],
      "metadata": {
        "id": "IvGXhVR31nec"
      }
    },
    {
      "cell_type": "code",
      "source": [
        "start_time = time(12, 0, 0) ## Change this time according to the time given in your question\n",
        "end_time = time(22, 0, 0) ## Change this time according to the time given in your question\n",
        "url = \"/hindi/\" ## Change this url according to the url given in your question\n",
        "day = \"Monday\" ## Change this day according to the day given in your question\n",
        "\n",
        "condition = (\n",
        "    (df[\"status\"] >= 200)\n",
        "    & (df[\"status\"] < 300)\n",
        "    & (df[\"method\"] == \"GET\")\n",
        "    & (df[\"url\"].str.startswith(pat=url))\n",
        "    & (df[\"time\"] >= start_time)\n",
        "    & (df[\"time\"] <= end_time)\n",
        "    & (df[\"day\"] == day)\n",
        ")\n",
        "df[condition].shape[0]"
      ],
      "metadata": {
        "colab": {
          "base_uri": "https://localhost:8080/"
        },
        "id": "iFPcChAZzF3a",
        "outputId": "0cb64427-b6ee-40d8-977b-ddf8f88e742e"
      },
      "execution_count": null,
      "outputs": [
        {
          "output_type": "execute_result",
          "data": {
            "text/plain": [
              "186"
            ]
          },
          "metadata": {},
          "execution_count": 3
        }
      ]
    },
    {
      "cell_type": "markdown",
      "source": [
        "### Q2"
      ],
      "metadata": {
        "id": "-YZ8b1161rxO"
      }
    },
    {
      "cell_type": "code",
      "source": [
        "start_time = time(3, 0, 0) ## Change this time according to the time given in your question\n",
        "end_time = time(8, 0, 0) ## Change this time according to the time given in your question\n",
        "url = \"/hindi/\" ## Change this url according to the url given in your question\n",
        "day = \"Wednesday\" ## Change this day according to the day given in your question\n",
        "\n",
        "condition = (\n",
        "    (df[\"status\"] >= 200)\n",
        "    & (df[\"status\"] < 300)\n",
        "    & (df[\"method\"] == \"GET\")\n",
        "    & (df[\"url\"].str.startswith(pat=url))\n",
        "    & (df[\"time\"] >= start_time)\n",
        "    & (df[\"time\"] <= end_time)\n",
        "    & (df[\"day\"] == day)\n",
        ")\n",
        "df[condition].shape[0]"
      ],
      "metadata": {
        "colab": {
          "base_uri": "https://localhost:8080/"
        },
        "id": "-J_7xNDRznQS",
        "outputId": "36d2621b-9f29-449c-bf12-27a32ddd178b"
      },
      "execution_count": null,
      "outputs": [
        {
          "output_type": "execute_result",
          "data": {
            "text/plain": [
              "173"
            ]
          },
          "metadata": {},
          "execution_count": 4
        }
      ]
    },
    {
      "cell_type": "markdown",
      "source": [
        "###Q3"
      ],
      "metadata": {
        "id": "l3T-Iz1O1wU-"
      }
    },
    {
      "cell_type": "code",
      "source": [
        "url = \"/blog/\" ## Change this url according to the url given in your question\n",
        "day = \"Friday\" ## Change this day according to the day given in your question\n",
        "\n",
        "condition = (\n",
        "    (df[\"url\"].str.startswith(pat=url))\n",
        "    & (df[\"day\"] == day)\n",
        ")\n",
        "temp = df[condition].copy()\n",
        "temp.groupby(\"hour\")[\"ip\"].nunique().max()"
      ],
      "metadata": {
        "colab": {
          "base_uri": "https://localhost:8080/"
        },
        "id": "mllBhQy3z_wh",
        "outputId": "d991b123-cefe-4aa5-fb3b-8766482729df"
      },
      "execution_count": null,
      "outputs": [
        {
          "output_type": "execute_result",
          "data": {
            "text/plain": [
              "71"
            ]
          },
          "metadata": {},
          "execution_count": 5
        }
      ]
    },
    {
      "cell_type": "markdown",
      "source": [
        "###Q4"
      ],
      "metadata": {
        "id": "aw9ajT7p1zWO"
      }
    },
    {
      "cell_type": "code",
      "source": [
        "url = \"/hindimp3/\" ## Change this url according to the url given in your question\n",
        "day = \"Wednesday\" ## Change this day according to the day given in your question\n",
        "\n",
        "condition = (df[\"url\"].str.startswith(pat=url)) & (df[\"day\"] == day)\n",
        "temp = df[condition].copy()\n",
        "temp.groupby(\"hour\")[\"ip\"].nunique().max()"
      ],
      "metadata": {
        "colab": {
          "base_uri": "https://localhost:8080/"
        },
        "id": "FNNUHjNE0EKj",
        "outputId": "3f1da56b-eb4d-490a-8109-515820ad0b13"
      },
      "execution_count": null,
      "outputs": [
        {
          "output_type": "execute_result",
          "data": {
            "text/plain": [
              "39"
            ]
          },
          "metadata": {},
          "execution_count": 6
        }
      ]
    },
    {
      "cell_type": "markdown",
      "source": [
        "###Q5"
      ],
      "metadata": {
        "id": "DnDE4aoC12JK"
      }
    },
    {
      "cell_type": "code",
      "source": [
        "filter_date = date(2024, 5, 12) ## Change this date according to the date given in your question\n",
        "url = \"/malayalammp3/\" ## Change this url according to the url given in your question\n",
        "\n",
        "condition = (df[\"url\"].str.startswith(pat=url)) & (df[\"date\"] == filter_date)\n",
        "temp = df[condition].copy()\n",
        "\n",
        "# Group by hour and count requests\n",
        "hourly_requests = temp.groupby(\"ip\")[\"size\"].sum()\n",
        "hourly_requests.max()"
      ],
      "metadata": {
        "colab": {
          "base_uri": "https://localhost:8080/"
        },
        "id": "efTjroMx0PJ7",
        "outputId": "f418b848-5c2e-4436-991f-83f7921ccdbf"
      },
      "execution_count": null,
      "outputs": [
        {
          "output_type": "execute_result",
          "data": {
            "text/plain": [
              "2861"
            ]
          },
          "metadata": {},
          "execution_count": 8
        }
      ]
    },
    {
      "cell_type": "markdown",
      "source": [
        "###Q6\n",
        "### NOTE - This Question might be different Plz be carefull"
      ],
      "metadata": {
        "id": "hO3baFKG14wv"
      }
    },
    {
      "cell_type": "code",
      "source": [
        "filter_date = date(2024, 5, 31) ## Change this date according to the date given in your question\n",
        "\n",
        "condition = (df[\"date\"] == filter_date) & (\n",
        "    df[\"user_agent\"].str.contains(pat=\"Chrome\")\n",
        ")\n",
        "temp = df[condition].copy()\n",
        "\n",
        "# Function to extract the major version of Chrome\n",
        "def extract_chrome_version(user_agent):\n",
        "    match = re.search(r\"Chrome/(\\d+)\", user_agent)\n",
        "    if match:\n",
        "        return int(match.group(1))\n",
        "    return None\n",
        "temp[\"chrome_version\"] = temp[\"user_agent\"].apply(extract_chrome_version)\n",
        "temp[\"chrome_version\"].value_counts().max()"
      ],
      "metadata": {
        "colab": {
          "base_uri": "https://localhost:8080/"
        },
        "id": "2Jax9Jh00c0H",
        "outputId": "ceb8a911-ce00-49b6-f924-7970b5ba0236"
      },
      "execution_count": null,
      "outputs": [
        {
          "output_type": "execute_result",
          "data": {
            "text/plain": [
              "279"
            ]
          },
          "metadata": {},
          "execution_count": 13
        }
      ]
    },
    {
      "cell_type": "markdown",
      "source": [
        "###Q7\n"
      ],
      "metadata": {
        "id": "619J_zKR1-K7"
      }
    },
    {
      "cell_type": "code",
      "source": [
        "filter_date = date(2024, 5, 26) ## Change this date according to the date given in your question\n",
        "\n",
        "condition = (df[\"date\"] == filter_date) & (\n",
        "    df[\"user_agent\"].str.contains(pat=\"Chrome\")\n",
        ")\n",
        "temp = df[condition].copy()\n",
        "\n",
        "# Function to extract the major version of Chrome\n",
        "def extract_chrome_version(user_agent):\n",
        "    match = re.search(r\"Chrome/(\\d+)\", user_agent)\n",
        "    if match:\n",
        "        return int(match.group(1))\n",
        "    return None\n",
        "temp[\"chrome_version\"] = temp[\"user_agent\"].apply(extract_chrome_version)\n",
        "temp[\"chrome_version\"].value_counts().max()"
      ],
      "metadata": {
        "colab": {
          "base_uri": "https://localhost:8080/"
        },
        "id": "lKrAAGJk0sOd",
        "outputId": "0a7422c7-0bb8-466d-81d8-05ffd8f0fd2c"
      },
      "execution_count": null,
      "outputs": [
        {
          "output_type": "execute_result",
          "data": {
            "text/plain": [
              "213"
            ]
          },
          "metadata": {},
          "execution_count": 9
        }
      ]
    },
    {
      "cell_type": "markdown",
      "source": [
        "###Q8"
      ],
      "metadata": {
        "id": "SAuMhWmP2CVF"
      }
    },
    {
      "cell_type": "code",
      "source": [
        "filter_date = date(2024, 5, 31) ## Change this date according to the date given in your question\n",
        "condition = (df[\"date\"] == filter_date) & (df[\"user_agent\"].str.contains(pat=\"Chrome\"))\n",
        "temp = df[condition].copy()\n",
        "temp[\"chrome_version\"] = temp[\"user_agent\"].apply(extract_chrome_version)\n",
        "temp[\"chrome_version\"].value_counts().max()"
      ],
      "metadata": {
        "colab": {
          "base_uri": "https://localhost:8080/"
        },
        "id": "SSrmoG3u00vW",
        "outputId": "8997291b-2ed5-49d8-bf0f-449723ee01b5"
      },
      "execution_count": null,
      "outputs": [
        {
          "output_type": "execute_result",
          "data": {
            "text/plain": [
              "279"
            ]
          },
          "metadata": {},
          "execution_count": 10
        }
      ]
    },
    {
      "cell_type": "markdown",
      "source": [
        "###Q9"
      ],
      "metadata": {
        "id": "KDhay1BZ2GsG"
      }
    },
    {
      "cell_type": "code",
      "source": [
        "sales_df = pd.read_csv(sales)\n",
        "sales_df.columns = ['city', 'product', 'sales']\n",
        "product = \"Juice\" ## Change this product according to the product given in your question\n",
        "sales_count = 24 ## Change this sales according to the sales given in your question\n",
        "\n",
        "grapes_df = sales_df[(sales_df[\"product\"] == product) & (sales_df[\"sales\"] >= sales_count)]\n",
        "# Group by normalized city and sum the sales\n",
        "grouped_df = grapes_df.groupby(\"city\")[\"sales\"].sum().reset_index()\n",
        "grouped_df[\"sales\"].max()"
      ],
      "metadata": {
        "colab": {
          "base_uri": "https://localhost:8080/"
        },
        "id": "CbjjTej1078-",
        "outputId": "c7121f57-285f-49e8-fc2f-3340fd358c6c"
      },
      "execution_count": null,
      "outputs": [
        {
          "output_type": "execute_result",
          "data": {
            "text/plain": [
              "750"
            ]
          },
          "metadata": {},
          "execution_count": 11
        }
      ]
    },
    {
      "cell_type": "markdown",
      "source": [
        "###Q10"
      ],
      "metadata": {
        "id": "jsGMeQ0m2LzZ"
      }
    },
    {
      "cell_type": "code",
      "source": [
        "sales_df = pd.read_csv(sales)\n",
        "sales_df.columns = ['city', 'product', 'sales']\n",
        "product = \"Juice\" ## Change this product according to the product given in your question\n",
        "sales_count = 48 ## Change this sales according to the sales given in your question\n",
        "\n",
        "hat_df = sales_df[(sales_df[\"product\"] == product) & (sales_df[\"sales\"] >= sales_count)]\n",
        "grouped_df = hat_df.groupby(\"city\")[\"sales\"].sum().reset_index()\n",
        "grouped_df[\"sales\"].max()"
      ],
      "metadata": {
        "colab": {
          "base_uri": "https://localhost:8080/"
        },
        "id": "RXVTMTl01Gum",
        "outputId": "15d9be4b-f0cf-4456-ff2f-5fe1f7ca8e2c"
      },
      "execution_count": null,
      "outputs": [
        {
          "output_type": "execute_result",
          "data": {
            "text/plain": [
              "644"
            ]
          },
          "metadata": {},
          "execution_count": 12
        }
      ]
    }
  ]
}